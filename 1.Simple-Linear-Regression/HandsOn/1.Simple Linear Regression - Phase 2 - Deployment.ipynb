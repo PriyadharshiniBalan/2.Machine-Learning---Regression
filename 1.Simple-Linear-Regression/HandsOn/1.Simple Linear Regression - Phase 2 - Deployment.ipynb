{
 "cells": [
  {
   "cell_type": "code",
   "execution_count": 1,
   "id": "5e3ec116-148f-40c8-91c8-f5ed3f664548",
   "metadata": {},
   "outputs": [],
   "source": [
    "import pickle"
   ]
  },
  {
   "cell_type": "code",
   "execution_count": 2,
   "id": "a93abad8-b4a1-483a-afd0-96dd2306c760",
   "metadata": {},
   "outputs": [
    {
     "data": {
      "text/plain": [
       "array([[9360.26128619]])"
      ]
     },
     "execution_count": 2,
     "metadata": {},
     "output_type": "execute_result"
    }
   ],
   "source": [
    "linear_model = pickle.load(open(\"finalized_model_linear.sav\",'rb'))\n",
    "linear_model.coef_"
   ]
  },
  {
   "cell_type": "code",
   "execution_count": 3,
   "id": "aae73053-e04d-4090-9b67-f3b683ce7896",
   "metadata": {},
   "outputs": [
    {
     "name": "stdin",
     "output_type": "stream",
     "text": [
      "Enter the years of exp 15\n"
     ]
    }
   ],
   "source": [
    "years_of_exp = int(input(\"Enter the years of exp\"))"
   ]
  },
  {
   "cell_type": "code",
   "execution_count": 8,
   "id": "d9c96dd6-6280-4060-830f-b0e83a2b8694",
   "metadata": {},
   "outputs": [
    {
     "name": "stdout",
     "output_type": "stream",
     "text": [
      "Expected salary for a 15 person experience person is 167181.31063410244\n"
     ]
    },
    {
     "name": "stderr",
     "output_type": "stream",
     "text": [
      "C:\\Users\\PRIYA DHARSHINI\\anaconda3\\Lib\\site-packages\\sklearn\\base.py:439: UserWarning: X does not have valid feature names, but LinearRegression was fitted with feature names\n",
      "  warnings.warn(\n"
     ]
    }
   ],
   "source": [
    "result = linear_model.predict([[years_of_exp]])\n",
    "print(f\"Expected salary for a {years_of_exp} person experience person is {result[0][0]}\") "
   ]
  },
  {
   "cell_type": "code",
   "execution_count": 9,
   "id": "77643825-2f22-4a78-af0c-67c042d82d99",
   "metadata": {},
   "outputs": [
    {
     "data": {
      "text/plain": [
       "array([26777.3913412])"
      ]
     },
     "execution_count": 9,
     "metadata": {},
     "output_type": "execute_result"
    }
   ],
   "source": [
    "linear_model.intercept_"
   ]
  },
  {
   "cell_type": "code",
   "execution_count": 10,
   "id": "1481c7ed-b028-4f29-8aff-8087b731092a",
   "metadata": {},
   "outputs": [
    {
     "name": "stderr",
     "output_type": "stream",
     "text": [
      "C:\\Users\\PRIYA DHARSHINI\\anaconda3\\Lib\\site-packages\\sklearn\\base.py:439: UserWarning: X does not have valid feature names, but LinearRegression was fitted with feature names\n",
      "  warnings.warn(\n"
     ]
    },
    {
     "data": {
      "text/plain": [
       "array([[26777.3913412]])"
      ]
     },
     "execution_count": 10,
     "metadata": {},
     "output_type": "execute_result"
    }
   ],
   "source": [
    "result = linear_model.predict([[0]])\n",
    "result"
   ]
  },
  {
   "cell_type": "code",
   "execution_count": 11,
   "id": "ab666806-82bb-43a7-ac7e-e6531f731220",
   "metadata": {},
   "outputs": [],
   "source": [
    "#intercept and the predicted value for 0 is same meaning that is the starting value of the line"
   ]
  },
  {
   "cell_type": "code",
   "execution_count": null,
   "id": "4fca0d02-3dd2-46a1-867c-85bbb7f45f1b",
   "metadata": {},
   "outputs": [],
   "source": []
  }
 ],
 "metadata": {
  "kernelspec": {
   "display_name": "Python 3 (ipykernel)",
   "language": "python",
   "name": "python3"
  },
  "language_info": {
   "codemirror_mode": {
    "name": "ipython",
    "version": 3
   },
   "file_extension": ".py",
   "mimetype": "text/x-python",
   "name": "python",
   "nbconvert_exporter": "python",
   "pygments_lexer": "ipython3",
   "version": "3.11.9"
  }
 },
 "nbformat": 4,
 "nbformat_minor": 5
}
