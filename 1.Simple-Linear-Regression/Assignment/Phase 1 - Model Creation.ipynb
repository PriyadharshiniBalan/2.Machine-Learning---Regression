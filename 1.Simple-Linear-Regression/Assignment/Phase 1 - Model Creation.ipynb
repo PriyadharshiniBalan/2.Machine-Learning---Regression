{
 "cells": [
  {
   "cell_type": "code",
   "execution_count": 27,
   "id": "2546088c-efdc-4ba5-a5ae-0903e6a204a5",
   "metadata": {},
   "outputs": [],
   "source": [
    "# Pandas\n",
    "    # Used to work with data set. It has function for analysing, cleaning, exploring, and Manipulating Data\n",
    "    # Used to load the csv file data to a Dataset\n",
    "# Import Pandas library.\n",
    "import pandas as pd"
   ]
  },
  {
   "cell_type": "code",
   "execution_count": 28,
   "id": "980cfef2-6037-4d95-83f3-74cb57d0b3b2",
   "metadata": {},
   "outputs": [
    {
     "data": {
      "text/html": [
       "<div>\n",
       "<style scoped>\n",
       "    .dataframe tbody tr th:only-of-type {\n",
       "        vertical-align: middle;\n",
       "    }\n",
       "\n",
       "    .dataframe tbody tr th {\n",
       "        vertical-align: top;\n",
       "    }\n",
       "\n",
       "    .dataframe thead th {\n",
       "        text-align: right;\n",
       "    }\n",
       "</style>\n",
       "<table border=\"1\" class=\"dataframe\">\n",
       "  <thead>\n",
       "    <tr style=\"text-align: right;\">\n",
       "      <th></th>\n",
       "      <th>YearsExperience</th>\n",
       "      <th>Salary</th>\n",
       "    </tr>\n",
       "  </thead>\n",
       "  <tbody>\n",
       "    <tr>\n",
       "      <th>0</th>\n",
       "      <td>1.1</td>\n",
       "      <td>39343.0</td>\n",
       "    </tr>\n",
       "    <tr>\n",
       "      <th>1</th>\n",
       "      <td>1.3</td>\n",
       "      <td>46205.0</td>\n",
       "    </tr>\n",
       "    <tr>\n",
       "      <th>2</th>\n",
       "      <td>1.5</td>\n",
       "      <td>37731.0</td>\n",
       "    </tr>\n",
       "    <tr>\n",
       "      <th>3</th>\n",
       "      <td>2.0</td>\n",
       "      <td>43525.0</td>\n",
       "    </tr>\n",
       "    <tr>\n",
       "      <th>4</th>\n",
       "      <td>2.2</td>\n",
       "      <td>39891.0</td>\n",
       "    </tr>\n",
       "  </tbody>\n",
       "</table>\n",
       "</div>"
      ],
      "text/plain": [
       "   YearsExperience   Salary\n",
       "0              1.1  39343.0\n",
       "1              1.3  46205.0\n",
       "2              1.5  37731.0\n",
       "3              2.0  43525.0\n",
       "4              2.2  39891.0"
      ]
     },
     "execution_count": 28,
     "metadata": {},
     "output_type": "execute_result"
    }
   ],
   "source": [
    "# Load the data from csv file to a data set\n",
    "dataset = pd.read_csv(\"Salary_Data.csv\")\n",
    "dataset[0:5]"
   ]
  },
  {
   "cell_type": "code",
   "execution_count": 38,
   "id": "382eb600-2a0d-49a8-8d5e-f4c54961bd08",
   "metadata": {},
   "outputs": [],
   "source": [
    "# Split the dataset into Input (independent Variable) and Output (dependent Variable)\n",
    "dependent = dataset[[\"Salary\"]] # Should always be 2D array [[]]\n",
    "independent = dataset[[\"YearsExperience\"]] # Should always be 2D array [[]]"
   ]
  },
  {
   "cell_type": "code",
   "execution_count": 39,
   "id": "9a5dbca2-9d96-4c9e-b6e7-4c6b03a7f6cd",
   "metadata": {},
   "outputs": [
    {
     "data": {
      "text/html": [
       "<div>\n",
       "<style scoped>\n",
       "    .dataframe tbody tr th:only-of-type {\n",
       "        vertical-align: middle;\n",
       "    }\n",
       "\n",
       "    .dataframe tbody tr th {\n",
       "        vertical-align: top;\n",
       "    }\n",
       "\n",
       "    .dataframe thead th {\n",
       "        text-align: right;\n",
       "    }\n",
       "</style>\n",
       "<table border=\"1\" class=\"dataframe\">\n",
       "  <thead>\n",
       "    <tr style=\"text-align: right;\">\n",
       "      <th></th>\n",
       "      <th>Salary</th>\n",
       "    </tr>\n",
       "  </thead>\n",
       "  <tbody>\n",
       "    <tr>\n",
       "      <th>0</th>\n",
       "      <td>39343.0</td>\n",
       "    </tr>\n",
       "    <tr>\n",
       "      <th>1</th>\n",
       "      <td>46205.0</td>\n",
       "    </tr>\n",
       "    <tr>\n",
       "      <th>2</th>\n",
       "      <td>37731.0</td>\n",
       "    </tr>\n",
       "    <tr>\n",
       "      <th>3</th>\n",
       "      <td>43525.0</td>\n",
       "    </tr>\n",
       "    <tr>\n",
       "      <th>4</th>\n",
       "      <td>39891.0</td>\n",
       "    </tr>\n",
       "  </tbody>\n",
       "</table>\n",
       "</div>"
      ],
      "text/plain": [
       "    Salary\n",
       "0  39343.0\n",
       "1  46205.0\n",
       "2  37731.0\n",
       "3  43525.0\n",
       "4  39891.0"
      ]
     },
     "execution_count": 39,
     "metadata": {},
     "output_type": "execute_result"
    }
   ],
   "source": [
    "dependent[0:5]"
   ]
  },
  {
   "cell_type": "code",
   "execution_count": 40,
   "id": "90b0a446-46cf-4909-bdf4-5c039a46d40e",
   "metadata": {},
   "outputs": [
    {
     "data": {
      "text/html": [
       "<div>\n",
       "<style scoped>\n",
       "    .dataframe tbody tr th:only-of-type {\n",
       "        vertical-align: middle;\n",
       "    }\n",
       "\n",
       "    .dataframe tbody tr th {\n",
       "        vertical-align: top;\n",
       "    }\n",
       "\n",
       "    .dataframe thead th {\n",
       "        text-align: right;\n",
       "    }\n",
       "</style>\n",
       "<table border=\"1\" class=\"dataframe\">\n",
       "  <thead>\n",
       "    <tr style=\"text-align: right;\">\n",
       "      <th></th>\n",
       "      <th>YearsExperience</th>\n",
       "    </tr>\n",
       "  </thead>\n",
       "  <tbody>\n",
       "    <tr>\n",
       "      <th>0</th>\n",
       "      <td>1.1</td>\n",
       "    </tr>\n",
       "    <tr>\n",
       "      <th>1</th>\n",
       "      <td>1.3</td>\n",
       "    </tr>\n",
       "    <tr>\n",
       "      <th>2</th>\n",
       "      <td>1.5</td>\n",
       "    </tr>\n",
       "    <tr>\n",
       "      <th>3</th>\n",
       "      <td>2.0</td>\n",
       "    </tr>\n",
       "    <tr>\n",
       "      <th>4</th>\n",
       "      <td>2.2</td>\n",
       "    </tr>\n",
       "  </tbody>\n",
       "</table>\n",
       "</div>"
      ],
      "text/plain": [
       "   YearsExperience\n",
       "0              1.1\n",
       "1              1.3\n",
       "2              1.5\n",
       "3              2.0\n",
       "4              2.2"
      ]
     },
     "execution_count": 40,
     "metadata": {},
     "output_type": "execute_result"
    }
   ],
   "source": [
    "independent[0:5]"
   ]
  },
  {
   "cell_type": "code",
   "execution_count": 41,
   "id": "2b2d874f-8ef8-4887-9610-c29ec5646e5e",
   "metadata": {},
   "outputs": [],
   "source": [
    "# Splitting the data set into Test and Train Data"
   ]
  },
  {
   "cell_type": "code",
   "execution_count": 42,
   "id": "ea5bad33-d3d6-4973-8bf3-985df5f6b6cf",
   "metadata": {},
   "outputs": [],
   "source": [
    "# Sklearn \n",
    "    # Contains model_selection package which splits the data set into test and train set\n",
    "    # Function name is train_test_split()\n",
    "\n",
    "# Importing train_test_split function from sklearn library\n",
    "from sklearn.model_selection import train_test_split\n",
    "x_train, x_test, y_train, y_test = train_test_split(independent, dependent, test_size = 0.3, random_state = 0)\n",
    "\n",
    "# test_size - Size of the data needed to be kept as test data set. 0.3 is 30%\n",
    "# random_state - parameter in train_test_split that controls the random number generator used to shuffle the data before splitting it"
   ]
  },
  {
   "cell_type": "code",
   "execution_count": 43,
   "id": "05329bda-1ff0-46f3-a2fe-8fcea09935b9",
   "metadata": {},
   "outputs": [],
   "source": [
    "# Linear Regression Model Creation"
   ]
  },
  {
   "cell_type": "code",
   "execution_count": 44,
   "id": "29db39a8-d582-44fe-81d7-51af02c48423",
   "metadata": {},
   "outputs": [],
   "source": [
    "# Sklearn \n",
    "    # Contains linear_model package which contains the LinearRegression class\n",
    "    # An object is created for the LinearRegression class\n",
    "\n",
    "# Importing LinearRegression class from sklearn library\n",
    "from sklearn.linear_model import LinearRegression\n",
    "regressor = LinearRegression()"
   ]
  },
  {
   "cell_type": "code",
   "execution_count": 47,
   "id": "a70e509f-a88e-4ad0-9c4d-b2674dd9060a",
   "metadata": {},
   "outputs": [
    {
     "name": "stdout",
     "output_type": "stream",
     "text": [
      "Weight/Slope :  [[9360.26128619]]\n",
      "Intercept/Bias :  [26777.3913412]\n"
     ]
    }
   ],
   "source": [
    "# With object created for the Linear Regression model, we are trying to fit the train data\n",
    "# The weight and the bias will be calculated\n",
    "regressor.fit(x_train, y_train)\n",
    "print(\"Weight/Slope : \" , regressor.coef_)\n",
    "print(\"Intercept/Bias : \" ,  regressor.intercept_)"
   ]
  },
  {
   "cell_type": "code",
   "execution_count": 51,
   "id": "45177120-ddfe-46af-9092-54f3c4847aec",
   "metadata": {},
   "outputs": [],
   "source": [
    "# Model prediction with out test data\n",
    "y_pred = regressor.predict(x_test)"
   ]
  },
  {
   "cell_type": "code",
   "execution_count": 52,
   "id": "3a03e921-abe4-4974-bf18-0e75f177888c",
   "metadata": {},
   "outputs": [],
   "source": [
    "# Evaluating the model performance"
   ]
  },
  {
   "cell_type": "code",
   "execution_count": 54,
   "id": "15634973-2b81-4869-94a5-9978c5ab830f",
   "metadata": {},
   "outputs": [
    {
     "name": "stdout",
     "output_type": "stream",
     "text": [
      "The R Square score is :  0.9710122289422968\n"
     ]
    }
   ],
   "source": [
    "# Sklearn \n",
    "    # Contains metrics package which contains the r2_score function\n",
    "    # This r2 score is used to find the models perfromace.\n",
    "    # Value will be between 0 to 1. O -> Very poor; 1 -> Very Good\n",
    "\n",
    "# Importing r2_score function from sklearn library\n",
    "from sklearn.metrics import r2_score\n",
    "r_score = r2_score(y_pred, y_test)\n",
    "print(\"The R Square score is : \", r_score)"
   ]
  },
  {
   "cell_type": "code",
   "execution_count": 55,
   "id": "929219b3-ea41-4066-a593-70d2e43a5310",
   "metadata": {},
   "outputs": [],
   "source": [
    "# Saving the best model"
   ]
  },
  {
   "cell_type": "code",
   "execution_count": 57,
   "id": "f529add3-3c2e-44f0-b3f5-2789d03749bc",
   "metadata": {},
   "outputs": [],
   "source": [
    "# Pickle\n",
    "    # It is a function used to dump a model to a file.\n",
    "    # Load a model from a file etc.\n",
    "\n",
    "import pickle\n",
    "filename = \"Finalized_model_linear.sav\"\n",
    "pickle.dump(regressor, open(filename, 'wb')) #wb is write binary"
   ]
  },
  {
   "cell_type": "code",
   "execution_count": 58,
   "id": "074b59a5-cf96-43ae-b9dc-a8a1de7f2ae1",
   "metadata": {},
   "outputs": [],
   "source": [
    "# Load the saved best model"
   ]
  },
  {
   "cell_type": "code",
   "execution_count": 59,
   "id": "01517baf-0d0d-48b7-9adc-ff26101a875b",
   "metadata": {},
   "outputs": [
    {
     "name": "stderr",
     "output_type": "stream",
     "text": [
      "C:\\Users\\PRIYA DHARSHINI\\anaconda3\\Lib\\site-packages\\sklearn\\base.py:439: UserWarning: X does not have valid feature names, but LinearRegression was fitted with feature names\n",
      "  warnings.warn(\n"
     ]
    },
    {
     "data": {
      "text/plain": [
       "array([[167181.3106341]])"
      ]
     },
     "execution_count": 59,
     "metadata": {},
     "output_type": "execute_result"
    }
   ],
   "source": [
    "model = pickle.load(open(\"Finalized_model_linear.sav\", 'rb')) #rb is read binary\n",
    "model.predict([[15]])"
   ]
  },
  {
   "cell_type": "code",
   "execution_count": null,
   "id": "5a909345-b43b-4c0d-b284-a831cd78cd0e",
   "metadata": {},
   "outputs": [],
   "source": []
  }
 ],
 "metadata": {
  "kernelspec": {
   "display_name": "Python 3 (ipykernel)",
   "language": "python",
   "name": "python3"
  },
  "language_info": {
   "codemirror_mode": {
    "name": "ipython",
    "version": 3
   },
   "file_extension": ".py",
   "mimetype": "text/x-python",
   "name": "python",
   "nbconvert_exporter": "python",
   "pygments_lexer": "ipython3",
   "version": "3.11.9"
  }
 },
 "nbformat": 4,
 "nbformat_minor": 5
}
