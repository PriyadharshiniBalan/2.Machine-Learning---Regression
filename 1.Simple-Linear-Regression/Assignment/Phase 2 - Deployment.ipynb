{
 "cells": [
  {
   "cell_type": "code",
   "execution_count": 1,
   "id": "1b8f0752-878a-4d79-8fc1-a5eebf51b9f9",
   "metadata": {},
   "outputs": [],
   "source": [
    "import pickle"
   ]
  },
  {
   "cell_type": "code",
   "execution_count": 2,
   "id": "2c8ccf39-afb8-41ff-8477-8ef003bbc75e",
   "metadata": {},
   "outputs": [],
   "source": [
    "filename = \"finalized_model_linear.sav\"\n",
    "model = pickle.load(open(filename,'rb'))"
   ]
  },
  {
   "cell_type": "code",
   "execution_count": 3,
   "id": "a37384bf-5f0f-441c-8fe5-2f5507f91448",
   "metadata": {},
   "outputs": [
    {
     "name": "stdin",
     "output_type": "stream",
     "text": [
      "Enter the Years of experience:  15\n"
     ]
    }
   ],
   "source": [
    "years = int(input(\"Enter the Years of experience: \"))"
   ]
  },
  {
   "cell_type": "code",
   "execution_count": 4,
   "id": "e142e49d-cb19-476f-b374-6bf7b5566606",
   "metadata": {},
   "outputs": [
    {
     "name": "stderr",
     "output_type": "stream",
     "text": [
      "C:\\Users\\PRIYA DHARSHINI\\anaconda3\\Lib\\site-packages\\sklearn\\base.py:439: UserWarning: X does not have valid feature names, but LinearRegression was fitted with feature names\n",
      "  warnings.warn(\n"
     ]
    }
   ],
   "source": [
    "sal = model.predict([[years]])"
   ]
  },
  {
   "cell_type": "code",
   "execution_count": 5,
   "id": "b6e25400-417b-4436-bf9e-afa3f990dc43",
   "metadata": {},
   "outputs": [
    {
     "name": "stdout",
     "output_type": "stream",
     "text": [
      "The salary for a 15 years experienced person is 167181.31063410244\n"
     ]
    }
   ],
   "source": [
    "print(f\"The salary for a {years} years experienced person is {sal[0][0]}\")"
   ]
  },
  {
   "cell_type": "code",
   "execution_count": null,
   "id": "8dab56fb-3d5d-4cc2-9578-ad8d59f8ac7b",
   "metadata": {},
   "outputs": [],
   "source": []
  }
 ],
 "metadata": {
  "kernelspec": {
   "display_name": "Python 3 (ipykernel)",
   "language": "python",
   "name": "python3"
  },
  "language_info": {
   "codemirror_mode": {
    "name": "ipython",
    "version": 3
   },
   "file_extension": ".py",
   "mimetype": "text/x-python",
   "name": "python",
   "nbconvert_exporter": "python",
   "pygments_lexer": "ipython3",
   "version": "3.11.9"
  }
 },
 "nbformat": 4,
 "nbformat_minor": 5
}
